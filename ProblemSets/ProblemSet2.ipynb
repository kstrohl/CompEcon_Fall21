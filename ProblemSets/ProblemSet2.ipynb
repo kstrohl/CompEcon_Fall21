{
 "cells": [
  {
   "cell_type": "markdown",
   "id": "c8178bb4-7c56-45c2-8421-497d5daf2462",
   "metadata": {},
   "source": [
    "## Kaleigh Strohl  |  ECON833: Problem Set 2\n",
    "\n",
    "### Standard Library, Problems 1/2/3"
   ]
  },
  {
   "cell_type": "markdown",
   "id": "9076f4d3-b550-4585-800f-b616b3bb9c4d",
   "metadata": {},
   "source": [
    "#### Problem 1"
   ]
  },
  {
   "cell_type": "code",
   "execution_count": 1,
   "id": "2b42d636-eecb-4f3a-a914-0826cc01f6dd",
   "metadata": {},
   "outputs": [
    {
     "name": "stdout",
     "output_type": "stream",
     "text": [
      "1 5 3.0\n"
     ]
    }
   ],
   "source": [
    "my_list = [1, 2, 3, 4, 5]\n",
    "print(min(my_list), max(my_list), (sum(my_list) / 5) )"
   ]
  },
  {
   "cell_type": "markdown",
   "id": "52f024bb-5999-4df7-a576-ff363037706b",
   "metadata": {
    "tags": []
   },
   "source": [
    "#### \n",
    "#### Problem 2"
   ]
  },
  {
   "cell_type": "code",
   "execution_count": 2,
   "id": "f06fe251-c086-4e07-9a5c-74ff04fc5ee8",
   "metadata": {},
   "outputs": [
    {
     "data": {
      "text/plain": [
       "False"
      ]
     },
     "execution_count": 2,
     "metadata": {},
     "output_type": "execute_result"
    }
   ],
   "source": [
    "price = 2\n",
    "new_price = price\n",
    "new_price = 3\n",
    "price == new_price"
   ]
  },
  {
   "cell_type": "code",
   "execution_count": 7,
   "id": "a776027a-a6e9-4131-a398-b4a8755b3262",
   "metadata": {},
   "outputs": [
    {
     "data": {
      "text/plain": [
       "False"
      ]
     },
     "execution_count": 7,
     "metadata": {},
     "output_type": "execute_result"
    }
   ],
   "source": [
    "string = \"a\"\n",
    "another_string = string\n",
    "another_string = \"ab\"\n",
    "string == another_string"
   ]
  },
  {
   "cell_type": "code",
   "execution_count": 12,
   "id": "dbf3d010-17c7-4f6f-863c-9e8c6d95c359",
   "metadata": {},
   "outputs": [
    {
     "data": {
      "text/plain": [
       "True"
      ]
     },
     "execution_count": 12,
     "metadata": {},
     "output_type": "execute_result"
    }
   ],
   "source": [
    "another_list = my_list\n",
    "my_list[1] = 0\n",
    "my_list == another_list"
   ]
  },
  {
   "cell_type": "code",
   "execution_count": 13,
   "id": "ef324a18-9768-42c7-adee-9e3eefa9a27f",
   "metadata": {},
   "outputs": [
    {
     "data": {
      "text/plain": [
       "False"
      ]
     },
     "execution_count": 13,
     "metadata": {},
     "output_type": "execute_result"
    }
   ],
   "source": [
    "my_tuple = (5, 6, 7)\n",
    "another_tuple = my_tuple\n",
    "my_tuple += (1,)\n",
    "my_tuple == another_tuple"
   ]
  },
  {
   "cell_type": "code",
   "execution_count": 18,
   "id": "1a80d6ee-a7a4-4453-91f1-7767bc091c19",
   "metadata": {},
   "outputs": [
    {
     "data": {
      "text/plain": [
       "True"
      ]
     },
     "execution_count": 18,
     "metadata": {},
     "output_type": "execute_result"
    }
   ],
   "source": [
    "my_set = {1: 'a', 2: 'b', 3: 'c'}\n",
    "another_set = my_set\n",
    "another_set[3] = 'd'\n",
    "my_set == another_set"
   ]
  },
  {
   "cell_type": "markdown",
   "id": "2d5508b8-6561-4a1b-b3cd-a728f603d70c",
   "metadata": {},
   "source": [
    "##### Conclusions: \n",
    "##### Integers, strings, and tuples are immutable\n",
    "##### Lists and sets are mutable"
   ]
  },
  {
   "cell_type": "markdown",
   "id": "76f7ba2e-e56b-4d84-91cf-dc34d34aa8e5",
   "metadata": {},
   "source": [
    "#### \n",
    "#### Problem 3"
   ]
  },
  {
   "cell_type": "code",
   "execution_count": 4,
   "id": "99181aea-41a5-4931-8be6-fc4af656ba5a",
   "metadata": {},
   "outputs": [],
   "source": [
    "import calculator as calc"
   ]
  },
  {
   "cell_type": "code",
   "execution_count": 7,
   "id": "d2f8840c-6561-46db-8480-e05894002032",
   "metadata": {},
   "outputs": [
    {
     "data": {
      "text/plain": [
       "5.0"
      ]
     },
     "execution_count": 7,
     "metadata": {},
     "output_type": "execute_result"
    }
   ],
   "source": [
    "side1 = 3 \n",
    "side2 = 4\n",
    "hypotenuse = calc.sqrt(calc.sum_of_arg(calc.multiply(side1, side1), calc.multiply(side2, side2)))\n",
    "hypotenuse"
   ]
  },
  {
   "cell_type": "markdown",
   "id": "aaaabd6c-5600-477f-b829-abee7828cd8e",
   "metadata": {},
   "source": [
    "### \n",
    "###\n",
    "### Introduction to NumPy, Problems 1/2/5"
   ]
  },
  {
   "cell_type": "markdown",
   "id": "97e74a7c-7f25-4ed0-b057-2996e9dcf62e",
   "metadata": {},
   "source": [
    "#### Problem 1"
   ]
  },
  {
   "cell_type": "code",
   "execution_count": 155,
   "id": "58101f2d-345d-4609-8ca8-2c659b2fb51f",
   "metadata": {},
   "outputs": [],
   "source": [
    "import numpy as np"
   ]
  },
  {
   "cell_type": "code",
   "execution_count": 156,
   "id": "4c59c409-561c-4310-a68f-1ddd94090397",
   "metadata": {},
   "outputs": [
    {
     "data": {
      "text/plain": [
       "array([[ 3, -1,  4],\n",
       "       [ 1,  5, -9]])"
      ]
     },
     "execution_count": 156,
     "metadata": {},
     "output_type": "execute_result"
    }
   ],
   "source": [
    "A = np.array([[3, -1, 4], [1, 5, -9]])\n",
    "A"
   ]
  },
  {
   "cell_type": "code",
   "execution_count": 157,
   "id": "7818a378-dc90-4421-abc9-114932a74714",
   "metadata": {},
   "outputs": [
    {
     "data": {
      "text/plain": [
       "array([[ 2,  6, -5,  3],\n",
       "       [ 5, -8,  9,  7],\n",
       "       [ 9, -3, -2, -3]])"
      ]
     },
     "execution_count": 157,
     "metadata": {},
     "output_type": "execute_result"
    }
   ],
   "source": [
    "B = np.array([[2, 6, -5, 3], [5, -8, 9, 7], [9, -3, -2, -3]])\n",
    "B"
   ]
  },
  {
   "cell_type": "code",
   "execution_count": 158,
   "id": "99044709-11b1-430a-9a8b-23ededf18f76",
   "metadata": {},
   "outputs": [
    {
     "data": {
      "text/plain": [
       "array([[ 37,  14, -32, -10],\n",
       "       [-54,  -7,  58,  65]])"
      ]
     },
     "execution_count": 158,
     "metadata": {},
     "output_type": "execute_result"
    }
   ],
   "source": [
    "A @ B"
   ]
  },
  {
   "cell_type": "markdown",
   "id": "2dde6b38-f752-431d-ba07-1f418c3e822e",
   "metadata": {},
   "source": [
    "#### \n",
    "#### Problem 2"
   ]
  },
  {
   "cell_type": "code",
   "execution_count": 159,
   "id": "52d020e6-bdd8-4d10-aaa6-4b1734c7a450",
   "metadata": {},
   "outputs": [
    {
     "data": {
      "text/plain": [
       "array([[ 3,  1,  4],\n",
       "       [ 1,  5,  9],\n",
       "       [-5,  3,  1]])"
      ]
     },
     "execution_count": 159,
     "metadata": {},
     "output_type": "execute_result"
    }
   ],
   "source": [
    "A = np.array([[3, 1, 4],[1, 5, 9],[-5, 3, 1]])\n",
    "A"
   ]
  },
  {
   "cell_type": "code",
   "execution_count": 163,
   "id": "f7bf054f-52d5-4ee9-9ad8-d23d89ae542a",
   "metadata": {},
   "outputs": [
    {
     "data": {
      "text/plain": [
       "array([[   9,   -7,   20],\n",
       "       [  -7,   25, -135],\n",
       "       [ 425,    9,   -7]])"
      ]
     },
     "execution_count": 163,
     "metadata": {},
     "output_type": "execute_result"
    }
   ],
   "source": [
    "-(A*A*A) + 9*A*A - 15*A"
   ]
  },
  {
   "cell_type": "markdown",
   "id": "75a1a27b-b5e7-46e6-8835-b9347eb5505f",
   "metadata": {},
   "source": [
    "#### \n",
    "#### Problem 5"
   ]
  },
  {
   "cell_type": "code",
   "execution_count": 184,
   "id": "682d1837-9dc8-4d9a-84c3-b50fc29898f6",
   "metadata": {},
   "outputs": [],
   "source": [
    "A = np.arange(6).reshape((2,3))\n",
    "B = np.tril(np.full((3, 3), 3))\n",
    "C = np.diag([-2, -2, -2])"
   ]
  },
  {
   "cell_type": "code",
   "execution_count": 191,
   "id": "3304d6a6-963a-4da1-b6b7-366bad58b0b0",
   "metadata": {},
   "outputs": [
    {
     "data": {
      "text/plain": [
       "array([[0., 0., 0.],\n",
       "       [0., 0., 0.],\n",
       "       [0., 0., 0.],\n",
       "       [0., 1., 2.],\n",
       "       [3., 4., 5.],\n",
       "       [3., 0., 0.],\n",
       "       [3., 3., 0.],\n",
       "       [3., 3., 3.]])"
      ]
     },
     "execution_count": 191,
     "metadata": {},
     "output_type": "execute_result"
    }
   ],
   "source": [
    "D = np.vstack((np.zeros((3, 3)), A, B))\n",
    "D"
   ]
  },
  {
   "cell_type": "code",
   "execution_count": 186,
   "id": "acffaa7f-e4ba-46dd-b62b-6f7257597ec1",
   "metadata": {},
   "outputs": [
    {
     "data": {
      "text/plain": [
       "array([[0., 3.],\n",
       "       [1., 4.],\n",
       "       [2., 5.],\n",
       "       [0., 0.],\n",
       "       [0., 0.],\n",
       "       [0., 0.],\n",
       "       [0., 0.],\n",
       "       [0., 0.]])"
      ]
     },
     "execution_count": 186,
     "metadata": {},
     "output_type": "execute_result"
    }
   ],
   "source": [
    "E = np.vstack(((A.T), (np.zeros((5, 2)))))\n",
    "E"
   ]
  },
  {
   "cell_type": "code",
   "execution_count": 197,
   "id": "c70df167-5d14-494a-bf32-bb441318c4e9",
   "metadata": {},
   "outputs": [
    {
     "data": {
      "text/plain": [
       "array([[ 1.,  0.,  0.],\n",
       "       [ 0.,  1.,  0.],\n",
       "       [ 0.,  0.,  1.],\n",
       "       [ 0.,  0.,  0.],\n",
       "       [ 0.,  0.,  0.],\n",
       "       [-2.,  0.,  0.],\n",
       "       [ 0., -2.,  0.],\n",
       "       [ 0.,  0., -2.]])"
      ]
     },
     "execution_count": 197,
     "metadata": {},
     "output_type": "execute_result"
    }
   ],
   "source": [
    "F = np.vstack(((np.eye(3)), (np.zeros((2, 3))), C))\n",
    "F"
   ]
  },
  {
   "cell_type": "code",
   "execution_count": 198,
   "id": "38652078-820e-40e1-9bd4-6ab2318b8f7f",
   "metadata": {},
   "outputs": [
    {
     "data": {
      "text/plain": [
       "array([[ 0.,  0.,  0.,  0.,  3.,  1.,  0.,  0.],\n",
       "       [ 0.,  0.,  0.,  1.,  4.,  0.,  1.,  0.],\n",
       "       [ 0.,  0.,  0.,  2.,  5.,  0.,  0.,  1.],\n",
       "       [ 0.,  1.,  2.,  0.,  0.,  0.,  0.,  0.],\n",
       "       [ 3.,  4.,  5.,  0.,  0.,  0.,  0.,  0.],\n",
       "       [ 3.,  0.,  0.,  0.,  0., -2.,  0.,  0.],\n",
       "       [ 3.,  3.,  0.,  0.,  0.,  0., -2.,  0.],\n",
       "       [ 3.,  3.,  3.,  0.,  0.,  0.,  0., -2.]])"
      ]
     },
     "execution_count": 198,
     "metadata": {},
     "output_type": "execute_result"
    }
   ],
   "source": [
    "block = np.hstack((D, E, F))\n",
    "block"
   ]
  },
  {
   "cell_type": "markdown",
   "id": "ebdca5fd-790b-4a5b-a80e-8d48eabe2dda",
   "metadata": {},
   "source": [
    "###\n",
    "### \n",
    "### Object Oriented Programming, Problems 1/2"
   ]
  },
  {
   "cell_type": "markdown",
   "id": "3f10a340-f8ee-4b7a-9014-96de5d1e2704",
   "metadata": {},
   "source": [
    "#### Problem 1"
   ]
  },
  {
   "cell_type": "code",
   "execution_count": 91,
   "id": "c97aaae1-0708-4068-9f2a-971408a28bf9",
   "metadata": {},
   "outputs": [],
   "source": [
    "class Backpack:\n",
    "    \"\"\"\n",
    "    A Backpack object class. Has a name and a list of contents.\n",
    "    \n",
    "    Attributes: \n",
    "        name (str): the name of the backpack's owner.\n",
    "        color (str): the color of the backpack.\n",
    "        max_size (int): maximum number of items in the backpack. \n",
    "        contents (list): the contents of the backpack.\n",
    "    \"\"\"\n",
    "    def __init__(self, name, color, max_size=5):\n",
    "        \"\"\"Set the name, color, max size, and initialize an empty list of contents.\n",
    "        \n",
    "        Parameters: \n",
    "            name (str): the name of the backpack's owner.\n",
    "            color (str): the color of the backpack.\n",
    "            max_size (float): maximum number of items in the backpack.\n",
    "        \"\"\"\n",
    "        self.name = name\n",
    "        self.color = color\n",
    "        self.max_size = 5\n",
    "        self.contents = []\n",
    "    \n",
    "    def put(self, item):\n",
    "        \"\"\"Add 'item' to the backpack's list of contents, \n",
    "        conditional on the number of items presently in the backpack does not exceed capacity\"\"\"\n",
    "        if len(self.contents) == self.max_size:\n",
    "            print(\"No Room!\")\n",
    "        else:\n",
    "            self.contents.append(item)\n",
    "\n",
    "    def take(self, item):\n",
    "        \"\"\"Remove 'item' from the backpack's list of contents.\"\"\"\n",
    "        self.contents.remove(item)\n",
    "        \n",
    "    def dump(self):\n",
    "        \"\"\"Resets the contents of the backpack to an empty list.\"\"\"\n",
    "        self.contents = []"
   ]
  },
  {
   "cell_type": "code",
   "execution_count": 87,
   "id": "a5be643a-71dc-4cf0-97ab-05edba989db4",
   "metadata": {},
   "outputs": [
    {
     "name": "stdout",
     "output_type": "stream",
     "text": [
      "Kaleigh blue []\n"
     ]
    }
   ],
   "source": [
    "my_backpack = Backpack(\"Kaleigh\", \"blue\")\n",
    "print(my_backpack.name, my_backpack.color, my_backpack.contents)"
   ]
  },
  {
   "cell_type": "code",
   "execution_count": 88,
   "id": "b647099f-96c8-4fd1-a948-65131cbeb253",
   "metadata": {},
   "outputs": [
    {
     "data": {
      "text/plain": [
       "['eraser']"
      ]
     },
     "execution_count": 88,
     "metadata": {},
     "output_type": "execute_result"
    }
   ],
   "source": [
    "my_backpack.put(\"eraser\")\n",
    "my_backpack.contents"
   ]
  },
  {
   "cell_type": "code",
   "execution_count": 89,
   "id": "0e91e21e-e9f0-40d3-a1fa-e8acf6218c48",
   "metadata": {},
   "outputs": [
    {
     "name": "stdout",
     "output_type": "stream",
     "text": [
      "Contents: ['pencil', 'pen', 'paper', 'computer']\n"
     ]
    }
   ],
   "source": [
    "def test_backpack(): \n",
    "    testpack = Backpack(\"Kaleigh\", \"blue\")\n",
    "    if testpack.name != \"Kaleigh\":\n",
    "        print(\"Backpack.name assigned incorrectly\")\n",
    "    for item in [\"pencil\", \"pen\", \"paper\", \"computer\"]:\n",
    "        testpack.put(item)\n",
    "    print(\"Contents:\", testpack.contents)\n",
    "    \n",
    "test_backpack()"
   ]
  },
  {
   "cell_type": "markdown",
   "id": "c989d663-8184-4dda-829b-19634b8e7012",
   "metadata": {},
   "source": [
    "#### \n",
    "#### Problem 2"
   ]
  },
  {
   "cell_type": "code",
   "execution_count": 154,
   "id": "de260cfa-751b-46a2-b729-41e0bcd90375",
   "metadata": {},
   "outputs": [],
   "source": [
    "class Jetpack(Backpack):\n",
    "    \"\"\"A Jetpack object class. Inherits from the Backpack class. \n",
    "    A jetpack is similar to a backpack but stores less items because it can accept an amount\n",
    "    of fuel that allows the person wearing it to fly.\n",
    "    \n",
    "    Attributes: \n",
    "        name (str): the name of the jetpack's owner.\n",
    "        color (str): the color of the jetpack.\n",
    "        max_size (int): maximum number of items in the jetpack. \n",
    "        contents (list): the contents of the jetpack.\n",
    "        fuel (int): amount of fuel to be burned.\n",
    "    \"\"\"\n",
    "    def __init__(self, name, color, max_size=2):\n",
    "        \"\"\"Set the name, color, max size, and initialize an empty list of contents.\n",
    "        \n",
    "        Parameters: \n",
    "            name (str): the name of the jetpack's owner.\n",
    "            color (str): the color of the jetpack.\n",
    "            max_size (int): maximum number of items in the jetpack. \n",
    "            fuel (int): amount of fuel to be burned.\n",
    "        \"\"\"\n",
    "        Backpack.__init__(self, name, color, max_size)\n",
    "        self.fuel = 10\n",
    "        \n",
    "    def fly(self, amount):\n",
    "        \"\"\"Accepts an amount of fuel to be burned and decrements the present fuel level by that amount.\"\"\"\n",
    "        if amount > self.fuel:\n",
    "            print(\"Not enough fuel!\")\n",
    "        else: \n",
    "            new_fuel = self.fuel - amount\n",
    "            self.fuel = new_fuel\n",
    "\n",
    "    def dump(self):\n",
    "        \"\"\"Empties the jetpack contents list and fuel tank.\"\"\"\n",
    "        self.contents = []\n",
    "        self.fuel = 0"
   ]
  }
 ],
 "metadata": {
  "kernelspec": {
   "display_name": "Python 3",
   "language": "python",
   "name": "python3"
  },
  "language_info": {
   "codemirror_mode": {
    "name": "ipython",
    "version": 3
   },
   "file_extension": ".py",
   "mimetype": "text/x-python",
   "name": "python",
   "nbconvert_exporter": "python",
   "pygments_lexer": "ipython3",
   "version": "3.8.8"
  }
 },
 "nbformat": 4,
 "nbformat_minor": 5
}
